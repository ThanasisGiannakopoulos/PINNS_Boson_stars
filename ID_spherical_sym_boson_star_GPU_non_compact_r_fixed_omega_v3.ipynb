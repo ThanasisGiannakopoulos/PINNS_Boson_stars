{
 "cells": [
  {
   "cell_type": "code",
   "execution_count": 1,
   "id": "63973009-c01b-4846-930d-e760883dcc02",
   "metadata": {},
   "outputs": [],
   "source": [
    "import torch\n",
    "from matplotlib import pyplot as plt\n",
    "import numpy as np"
   ]
  },
  {
   "cell_type": "code",
   "execution_count": 2,
   "id": "84125085-3cbb-4227-9f14-4cd9d3f9ef54",
   "metadata": {},
   "outputs": [
    {
     "name": "stdout",
     "output_type": "stream",
     "text": [
      "torch version: 2.4.1+cu124\n"
     ]
    }
   ],
   "source": [
    "print('torch version:',torch.__version__)"
   ]
  },
  {
   "cell_type": "code",
   "execution_count": 3,
   "id": "416793e3-e216-4365-bf97-dbedb5c1fa62",
   "metadata": {},
   "outputs": [
    {
     "name": "stdout",
     "output_type": "stream",
     "text": [
      "device: cuda\n"
     ]
    }
   ],
   "source": [
    "if torch.cuda.is_available():\n",
    "    device = torch.device(\"cuda\")\n",
    "    print('device:', device)\n",
    "else:\n",
    "    device = torch.device(\"cpu\")\n",
    "    print('CUDA is not available. Using CPU.')"
   ]
  },
  {
   "cell_type": "markdown",
   "id": "4558fed9-e2f4-4faa-8b4e-e8eed8faf470",
   "metadata": {},
   "source": [
    "The system:\n",
    "\n",
    "\\begin{align}\n",
    "\\partial_r A &= A \\left[ \\frac{(1-A)}{r} + 8 \\pi r A \\rho \\right] \\; ,\n",
    " \\\\\n",
    "\\partial_r \\alpha &= \\alpha \\left[ \\frac{(A-1)}{2r} + 8 \\pi r A S_A \\right] \\; ,\n",
    " \\\\\n",
    "\\partial_r \\chi &= - \\frac{\\chi}{r} \\left[ 1+A - 8 \\pi r A V(\\phi) \\right]\n",
    "+ A \\left[ \\rule{0mm}{5mm} \\frac{dV}{d\\phi}\n",
    "- \\left( \\frac{\\omega}{\\alpha} \\right)^2 \\phi \\right]  \\; ,\n",
    " \\\\\n",
    "\\partial_r \\phi &= \\chi\n",
    " \\; ,\n",
    "\\end{align}\n",
    "\n",
    "Boundary conditions:\n",
    "\\begin{align}\n",
    "A(r=0) = 1 \\,, \\quad \\partial_r \\alpha(r=0) = 0 \\,, \\quad \\phi(r=0) = \\phi_0 \\,, \\quad \\chi(r=0) = 0 \\,,\n",
    "\\\\\n",
    "A(r \\rightarrow \\infty) = 1 \\,, \\quad \\alpha(r \\rightarrow \\infty) = 1 \\,, \\quad \\phi(r \\rightarrow \\infty) = 0 \\,, \\quad \\chi(r \\rightarrow \\infty) = 0 \\,.\n",
    "\\end{align}\n",
    "\n",
    "The potential is\n",
    "$$\n",
    "V(\\phi) = \\frac{1}{2} m^2 \\phi^2 \\,, \\quad \\frac{d V}{d \\phi} = m^2 \\phi \\,.\n",
    "$$\n",
    "\n",
    "To start, let's try to get a solution for fixed $\\omega$ and $\\phi_0$ (known solutions from Miguel Bezares)."
   ]
  },
  {
   "cell_type": "code",
   "execution_count": 4,
   "id": "c61301be-96fd-4ee5-a69e-e4598ff1d218",
   "metadata": {},
   "outputs": [],
   "source": [
    "# copied from https://github.com/benmoseley/harmonic-oscillator-pinn/blob/main/Harmonic%20oscillator%20PINN.ipynb\n",
    "class FCN(torch.nn.Module):    \n",
    "    def __init__(self, N_INPUT, N_OUTPUT, N_HIDDEN, N_LAYERS):\n",
    "        super().__init__()\n",
    "        activation = torch.nn.Tanh\n",
    "        \n",
    "        self.fcs = torch.nn.Sequential(*[\n",
    "                        torch.nn.Linear(N_INPUT, N_HIDDEN),\n",
    "                        activation()])\n",
    "        self.fch = torch.nn.Sequential(*[\n",
    "                        torch.nn.Sequential(*[\n",
    "                            torch.nn.Linear(N_HIDDEN, N_HIDDEN),\n",
    "                            activation()]) for _ in range(N_LAYERS-1)])\n",
    "        self.fce = torch.nn.Linear(N_HIDDEN, N_OUTPUT)\n",
    "\n",
    "      # Apply custom weight initialization\n",
    "        self.apply(self._init_weights)\n",
    "    \n",
    "    def forward(self, x):\n",
    "        x = self.fcs(x)\n",
    "        x = self.fch(x)\n",
    "        x = self.fce(x)\n",
    "        act = torch.nn.Softplus()\n",
    "        x = act(x)\n",
    "        return x\n",
    "\n",
    "    def _init_weights(self, m):\n",
    "        if isinstance(m, torch.nn.Linear):\n",
    "            # Get the size of the previous layer (input size of the current layer)\n",
    "            n = m.in_features # The number of input features to this layer\n",
    "            # Set the range for uniform distribution as [-1/sqrt(n), 1/sqrt(n)]\n",
    "            bound = 1 / np.sqrt(n)\n",
    "            # Initialize weights with a uniform distribution in the range [-bound, bound]\n",
    "            torch.nn.init.uniform_(m.weight, -bound, bound)\n",
    "            \n",
    "            # Initialize biases to zero, only if the layer has biases\n",
    "            if m.bias is not None:\n",
    "                torch.nn.init.constant_(m.bias, 0.0)"
   ]
  },
  {
   "cell_type": "code",
   "execution_count": 5,
   "id": "70ec3044-8aa4-4087-9cbf-b793fa8bc9f6",
   "metadata": {},
   "outputs": [],
   "source": [
    "# copied from https://github.com/raimonluna/MachineLearningForStrongGravity/blob/main/Lecture1_Physics_Informed_Neural_Networks.ipynb\n",
    "def gradients(outputs, inputs, order = 1):\n",
    "    if order == 1:\n",
    "        return torch.autograd.grad(outputs, inputs, grad_outputs=torch.ones_like(outputs), create_graph=True)[0]\n",
    "    elif order > 1:\n",
    "        return gradients(gradients(outputs, inputs, 1), inputs, order - 1)\n",
    "    else:\n",
    "        return outputs"
   ]
  },
  {
   "cell_type": "code",
   "execution_count": 6,
   "id": "cee3c387-ba15-4f20-a5f2-e3c2cd2237e9",
   "metadata": {},
   "outputs": [],
   "source": [
    "# random (uniform) sample points in (0,1).\n",
    "def random_domain_points(n):\n",
    "    #x = torch.rand((n,1), requires_grad=True)\n",
    "    xhigh = 0.5*torch.rand((int(n/2),1), requires_grad=True) + 0.5 # [0.5,1)\n",
    "    xlow  = -0.5*torch.rand((int(n/2),1), requires_grad=True) + 0.5 # (0,0.5]\n",
    "    x = torch.cat((xlow, xhigh),0)\n",
    "    return x"
   ]
  },
  {
   "cell_type": "code",
   "execution_count": 7,
   "id": "5eac0401-6f33-46cd-a1d1-7d7b2c81c9d9",
   "metadata": {},
   "outputs": [],
   "source": [
    "def domain_loss(u, r, omega, m): \n",
    "    A, alpha, chi_minus, phi = map(lambda i:  u[:,[i]], range(4))\n",
    "    #  s.t. all vars are positive\n",
    "    chi = - chi_minus\n",
    "    # take derivatives\n",
    "    Ar = gradients(A, r)\n",
    "    alphar = gradients(alpha, r)\n",
    "    chir = gradients(chi, r)\n",
    "    phir = gradients(phi, r)\n",
    "    \n",
    "    omega = omega.to(device)\n",
    "    \n",
    "    # potential\n",
    "    V = 0.5*torch.pow(m,2)*torch.pow(phi,2)\n",
    "    # potential derivative wrt phi\n",
    "    dVdphi = torch.pow(m,2)*phi\n",
    "    # rho\n",
    "    rho = 0.5*(torch.pow(chi,2)/A + torch.pow((omega/alpha),2)*torch.pow(phi,2)) + V\n",
    "    # S_A\n",
    "    SA = 0.5*(torch.pow(chi,2)/A + torch.pow((omega/alpha),2)*torch.pow(phi,2)) - V\n",
    "    # eq_A is \\p_rA - rhs[A]\n",
    "    eq_A = r*Ar - A*( (1-A) + 8*torch.pi*(r**2)*A*rho)\n",
    "    # eq_alpha is \\p_r alpha - rhs[alpha]\n",
    "    eq_alpha = r*alphar - alpha*( 0.5*(A-1) + 8*torch.pi*A*(r**2)*SA)\n",
    "    # eq_chi  is \\p_r chi - rhs[chi]\n",
    "    eq_chi = r*chir + (chi)*(1 + A - 8*torch.pi*r*A*V) - r*A*(dVdphi - torch.pow((omega/alpha),2)*phi)\n",
    "    # eq_phi is \\p_r phi - rhs[phi]\n",
    "    eq_phi = phir - chi\n",
    "\n",
    "    loss_dom = (torch.mean(torch.pow(eq_A,2)) + torch.mean(torch.pow(eq_alpha,2))\n",
    "                + torch.mean(torch.pow(eq_chi,2)) + torch.mean(torch.pow(eq_phi,2)) \n",
    "               )\n",
    "               \n",
    "    return loss_dom\n",
    "\n",
    "def r0_loss(u0, r0, phi0):    \n",
    "    A, alpha, chi_minus, phi = map(lambda i:  u0[[i]], range(4))\n",
    "    chi = - chi_minus\n",
    "    # take derivatives\n",
    "    alphar = gradients(alpha, r0)\n",
    "    \n",
    "    loss_r0 = torch.mean(torch.pow(A-1,2)) + torch.mean(torch.pow(alphar,2)) + torch.mean(torch.pow(phi-phi0,2)) + torch.mean(torch.pow(chi,2))\n",
    "    return loss_r0\n",
    "\n",
    "def rmax_loss(umax):\n",
    "    A, alpha, chi_minus, phi = map(lambda i:  umax[[i]], range(4))\n",
    "    chi = - chi_minus\n",
    "\n",
    "    loss_rmax = torch.mean(torch.pow(A-1,2)) + torch.mean(torch.pow(alpha-1,2)) + torch.mean(torch.pow(phi,2)) + torch.mean(torch.pow(chi,2))\n",
    "    return loss_rmax\n",
    "\n",
    "# # penalize the loss when A, alpha, or phi is negative\n",
    "# def negative_penalty(u):\n",
    "#     A, alpha, chi, phi = map(lambda i:  u[:,[i]], range(4))\n",
    "#     m = torch.nn.ReLU()\n",
    "#     penalty = (\n",
    "#         torch.mean(torch.pow(m(-A),2)) \n",
    "#         + torch.mean(torch.pow(m(-alpha),2)) \n",
    "#         + torch.mean(torch.pow(m(-phi),2))\n",
    "#     )\n",
    "#     return penalty\n",
    "\n",
    "# # for chi we penalize if it is positive (this implies that phi is a monotonically decreasing function)\n",
    "# def chi_positive_penalty(u):\n",
    "#     A, alpha, chi, phi = map(lambda i:  u[:,[i]], range(4))\n",
    "#     m = torch.nn.ReLU()\n",
    "#     penalty = torch.mean(torch.pow(m(chi),2))\n",
    "#     return penalty\n",
    "\n",
    "# # we set \\partial_r \\alpha |r=0, but not alpha.\n",
    "# # we want alpha >=0, otherwise, there will be a zero crossing in the bulk of the domain, which is a problem (1/alpha term)\n",
    "# def alpha_negative_penalty_r0(u): # at r0\n",
    "#     A, alpha, chi, phi = map(lambda i:  u[[i]], range(4))\n",
    "#     m = torch.nn.ReLU()\n",
    "#     penalty = torch.mean(torch.pow(m(-alpha),2))\n",
    "#     return penalty\n",
    "\n",
    "# impose that phi is a monotonically decreasing function\n",
    "def phi_monotonic_decrease_dom(u,r):\n",
    "    A, alpha, chi_minus, phi = map(lambda i:  u[:,[i]], range(4))\n",
    "    chi = - chi_minus\n",
    "    phir = gradients(phi, r)\n",
    "    m = torch.nn.ReLU()\n",
    "    penalty = torch.mean(torch.pow(m(phir),2))\n",
    "    return penalty\n",
    "\n",
    "# impose that alpha is a monotonically increasing function\n",
    "def alpha_monotonic_increase_dom(u,r):\n",
    "    A, alpha, chi_minus, phi = map(lambda i:  u[:,[i]], range(4))\n",
    "    chi = - chi_minus\n",
    "    alphar = gradients(alpha, r)\n",
    "    m = torch.nn.ReLU()\n",
    "    penalty = torch.mean(torch.pow(m(-alphar),2))\n",
    "    return penalty\n"
   ]
  },
  {
   "cell_type": "code",
   "execution_count": 8,
   "id": "fd623021-49bf-4a73-8884-533ef12b6e35",
   "metadata": {},
   "outputs": [],
   "source": [
    "#torch.manual_seed(123)\n",
    "\n",
    "# input 1 (x), output 4 (A, alpha, phi, chi), 32 nodes per layer, 3 hidden layers\n",
    "# (#input, #output,#neurons in each hidden layer, #of hidden layers)\n",
    "model = FCN(1,4,64,4).to(device)\n",
    "\n",
    "#optimizer = torch.optim.Adam(list(model.parameters())+[omega],lr=1e-4)\n",
    "omega = torch.nn.Parameter(0.895042*torch.ones(1))"
   ]
  },
  {
   "cell_type": "code",
   "execution_count": 9,
   "id": "639a56d1-b9e8-4c90-876e-bae047ac31bc",
   "metadata": {},
   "outputs": [],
   "source": [
    "optimizer = torch.optim.Adam(list(model.parameters()),lr=1e-4)\n",
    "\n",
    "DECAY_RATE = 0.9\n",
    "DECAY_STEPS = 2000\n",
    "gamma = DECAY_RATE ** (1 / DECAY_STEPS)\n",
    "\n",
    "scheduler = torch.optim.lr_scheduler.ExponentialLR(optimizer, gamma=gamma)\n",
    "# true also below\n",
    "#scheduler = torch.optim.lr_scheduler.StepLR(optimizer, step_size=1000, gamma=0.5, verbose=True) "
   ]
  },
  {
   "cell_type": "code",
   "execution_count": 10,
   "id": "138047c5-0a55-4277-814a-35d641be40eb",
   "metadata": {},
   "outputs": [],
   "source": [
    "n = 2000 # number of random sampling points\n",
    "\n",
    "epochs = 200000\n",
    "\n",
    "#mass\n",
    "m = torch.sqrt(1*torch.ones(1)).to(device)\n",
    "# phi(x=0) is 0.05\n",
    "phi0 = torch.ones(1).to(device)*0.05\n",
    "\n",
    "# save all the different loss functions: \n",
    "# boundary data at x=0\n",
    "# 1. loss_r0 = r0_loss(u0, r0, phi0)\n",
    "# bulk of the domain\n",
    "# 2. loss for the bulk of the domain: loss_dom = domain_loss(u, r, omega, m)\n",
    "# 3. penalty: force phi to decrease monotonically: phi_mono_decrease = phi_monotonic_decrease_dom(u)\n",
    "# 4. penalty: force alpha to increase monotonically: alpha_mono_increase = alpha_monotonic_increase_dom(u)\n",
    "# boundary data at x=xmax\n",
    "# 5. loss_rmax = rmax_loss(umax)\n",
    "\n",
    "losses = torch.zeros((5,epochs)).to(device)\n",
    "\n",
    "# all losses, weighted and added for each epoch\n",
    "loss_list = []\n",
    "\n",
    "# rmax of physical domain\n",
    "RMAX = 200\n",
    "\n",
    "# weigts\n",
    "# r0_loss\n",
    "w0 = 1000\n",
    "# domain loss\n",
    "w1 = 1\n",
    "# rmax loss\n",
    "w2 = 1000\n",
    "# phi mono decrease\n",
    "w3 = 1000\n",
    "# alpha mono decrease\n",
    "w4 = 1000"
   ]
  },
  {
   "cell_type": "code",
   "execution_count": null,
   "id": "c69d0292-7f12-4bd0-a871-0ac718e891df",
   "metadata": {},
   "outputs": [
    {
     "name": "stdout",
     "output_type": "stream",
     "text": [
      "epoch =  123000 | loss =  6.280075922404649e-06 | Learning Rate =  1.534395122356824e-07 |||\r"
     ]
    }
   ],
   "source": [
    "# to print message after how many epochs\n",
    "print_message = 50\n",
    "\n",
    "for i in range(int(epochs)):\n",
    "    optimizer.zero_grad() # to make the gradients zero\n",
    "    \n",
    "    # r=0\n",
    "    r0 = torch.zeros(1, requires_grad=True).to(device)\n",
    "    # boundary data at x=0\n",
    "    u0 = model(r0)\n",
    "    loss_r0 = r0_loss(u0, r0, phi0)\n",
    "    \n",
    "    # r sample\n",
    "    r = RMAX*random_domain_points(n).to(device)\n",
    "    u = model(r)\n",
    "    # loss for the bulk of the domain\n",
    "    loss_dom = domain_loss(u, r, omega, m)\n",
    "    # penalty: force phi to decrease monotonically\n",
    "    phi_mono_decrease = phi_monotonic_decrease_dom(u,r)\n",
    "    # penalty: force alpha to increase monotonically\n",
    "    alpha_mono_increase = alpha_monotonic_increase_dom(u,r)\n",
    "    \n",
    "    # rmax\n",
    "    rmax = RMAX*torch.ones(1, requires_grad=True).to(device)\n",
    "    # boundary data at x=xmax\n",
    "    umax = model(rmax)\n",
    "    loss_rmax = rmax_loss(umax)\n",
    "\n",
    "    losses[0,i] = loss_r0\n",
    "    losses[1,i] = loss_dom\n",
    "    losses[2,i] = loss_rmax\n",
    "    losses[3,i] = phi_mono_decrease\n",
    "    losses[4,i] = alpha_mono_increase\n",
    "\n",
    "    # LOSS\n",
    "    loss = (w0*loss_r0 + w1*loss_dom + \n",
    "            w2*loss_rmax + \n",
    "            w3*phi_mono_decrease + w4*alpha_mono_increase\n",
    "           )\n",
    "    \n",
    "    # save loss\n",
    "    loss_list.append(loss.item())\n",
    "    current_lr = scheduler.get_last_lr()[0]  # Get the current learning rate\n",
    "\n",
    "    # print message\n",
    "    if (i+1)%print_message==0:\n",
    "        #print(f'Epoch: {i+1} - Loss: {loss.item():>1.3e} - Learning Rate: {current_lr:>1.3e}')\n",
    "        print('epoch = ', i+1, '| loss = ', loss.item(),'| Learning Rate = ', current_lr, '|',  end='\\r')\n",
    "\n",
    "    # detach() removes the \"requires_grad\" and numpy() makes it a numpy item to plot later\n",
    "    loss.backward() # This is for computing gradients using backward propagation\n",
    "    optimizer.step()\n",
    "    scheduler.step()\n"
   ]
  },
  {
   "cell_type": "code",
   "execution_count": null,
   "id": "ab412465-6fd0-4ede-84f7-858473d87f4b",
   "metadata": {
    "scrolled": true
   },
   "outputs": [],
   "source": [
    "plt.semilogy(loss_list)"
   ]
  },
  {
   "cell_type": "code",
   "execution_count": 18,
   "id": "ae95d3f1-5509-4e43-9dbe-960173ecf33b",
   "metadata": {},
   "outputs": [
    {
     "data": {
      "text/plain": [
       "Text(0, 0.5, 'Losses[4]')"
      ]
     },
     "execution_count": 18,
     "metadata": {},
     "output_type": "execute_result"
    },
    {
     "data": {
      "image/png": "[encoded data removed]",
      "text/plain": [
       "<Figure size 640x480 with 1 Axes>"
      ]
     },
     "metadata": {},
     "output_type": "display_data"
    }
   ],
   "source": [
    "i = 4\n",
    "\n",
    "ei = 0\n",
    "ef = 100000\n",
    "\n",
    "# Plot in the second subplot\n",
    "plt.semilogy(losses[i, ei:ef].cpu().detach().numpy())\n",
    "plt.grid(True, which='both', linestyle='--', linewidth=0.5)\n",
    "plt.xlabel(\"Epoch\")\n",
    "plt.ylabel(f\"Losses[{i}]\")"
   ]
  },
  {
   "cell_type": "code",
   "execution_count": 19,
   "id": "b0ce1060-7647-454b-bd6b-4e5f6c657e93",
   "metadata": {},
   "outputs": [
    {
     "name": "stdout",
     "output_type": "stream",
     "text": [
      "A_nn_r0 = 1.0\n",
      "A_r0    = 1\n",
      "\n",
      "alpha_nn_r0 = 0.9877542853355408\n",
      "alpha_r0    > 0\n",
      "\n",
      "chi_nn_r0 = 0.00017108059546444565\n",
      "chi_r0    = 0\n",
      "\n",
      "phi_nn_r0 = 0.04999938979744911\n",
      "phi0_r0   = 0.05000000074505806\n",
      "\n",
      "alphar_nn_r0 = 1.0011717677116394e-08\n",
      "alphar_r0    = 0\n"
     ]
    }
   ],
   "source": [
    "R0 = torch.zeros(1, requires_grad=True).to(device)\n",
    "nn_sol_r0 = model(R0)#.cpu().detach().numpy() # detach some extra info, and numpy makes a numpy array to plot\n",
    "A, alpha, chi, phi = map(lambda i:  nn_sol_r0[[i]], range(4))\n",
    "alphar = gradients(alpha, R0)\n",
    "\n",
    "print(\"A_nn_r0 =\",A.item())\n",
    "print(\"A_r0    =\",1)\n",
    "print(\"\")\n",
    "\n",
    "print(\"alpha_nn_r0 =\",alpha.item())\n",
    "print(\"alpha_r0    >\",0)\n",
    "print(\"\")\n",
    "\n",
    "print(\"chi_nn_r0 =\",chi.item())\n",
    "print(\"chi_r0    =\",0)\n",
    "print(\"\")\n",
    "\n",
    "print(\"phi_nn_r0 =\",phi.item())\n",
    "print(\"phi0_r0   =\",phi0.item())\n",
    "print(\"\")\n",
    "\n",
    "\n",
    "print(\"alphar_nn_r0 =\",alphar.item())\n",
    "print(\"alphar_r0    =\",0)"
   ]
  },
  {
   "cell_type": "code",
   "execution_count": 20,
   "id": "86d28a47-63e1-4c2a-b36d-fdfeb7132479",
   "metadata": {},
   "outputs": [
    {
     "name": "stdout",
     "output_type": "stream",
     "text": [
      "A_nn_rmax = 1.0000035762786865\n",
      "A_rmax    = 1\n",
      "\n",
      "alpha_nn_rmax = 1.0\n",
      "alpha_rmax    = 1\n",
      "\n",
      "chi_nn_rmax = 2.285529080836568e-05\n",
      "chi_rmax    = 0\n",
      "\n",
      "phi_nn_rmax = 3.485825800453313e-05\n",
      "phi0_rmax   = 0\n"
     ]
    }
   ],
   "source": [
    "rmax = RMAX*torch.ones(1, requires_grad=True).to(device)\n",
    "nn_sol_rmax = model(rmax)#.cpu().detach().numpy() # detach some extra info, and numpy makes a numpy array to plot\n",
    "A, alpha, chi, phi = map(lambda i:  nn_sol_rmax[[i]], range(4))\n",
    "alphar = gradients(alpha, rmax)\n",
    "\n",
    "print(\"A_nn_rmax =\",A.item())\n",
    "print(\"A_rmax    =\",1)\n",
    "print(\"\")\n",
    "\n",
    "print(\"alpha_nn_rmax =\",alpha.item())\n",
    "print(\"alpha_rmax    =\",1)\n",
    "print(\"\")\n",
    "\n",
    "print(\"chi_nn_rmax =\",chi.item())\n",
    "print(\"chi_rmax    =\",0)\n",
    "print(\"\")\n",
    "\n",
    "print(\"phi_nn_rmax =\",phi.item())\n",
    "print(\"phi0_rmax   =\",0)"
   ]
  },
  {
   "cell_type": "code",
   "execution_count": null,
   "id": "b6377023-7586-4ad9-9e43-c29495533f9c",
   "metadata": {},
   "outputs": [],
   "source": [
    "#plt.plot(omegas)"
   ]
  },
  {
   "cell_type": "code",
   "execution_count": 28,
   "id": "8e98c7fd-26ed-4bdc-b1a0-a6e3b5c387b5",
   "metadata": {},
   "outputs": [],
   "source": [
    "# the time domain; used to visualize the analytical solution\n",
    "N = 1000\n",
    "R = torch.linspace(0,RMAX,N)#.view(-1,10)\n",
    "#print(t)\n",
    "\n",
    "# the view(-1,1) make the row tensor to a column tensor\n",
    "# -1 means you dont know how many rows you need, and 1 mean that you want 1 element in each row\n",
    "RR = torch.linspace(0,RMAX,N).view(-1,1).to(device)\n",
    "\n",
    "nn_sol = model(RR).cpu().detach().numpy() # detach some extra info, and numpy makes a numpy array to plot\n",
    "A_nn, alpha_nn, chi_nn, phi_nn = map(lambda i:  nn_sol[:,[i]], range(4))\n"
   ]
  },
  {
   "cell_type": "code",
   "execution_count": 29,
   "id": "db950b1d-4f33-4a81-934d-eaff97df5a32",
   "metadata": {},
   "outputs": [
    {
     "data": {
      "text/plain": [
       "<matplotlib.legend.Legend at 0x7247275efb50>"
      ]
     },
     "execution_count": 29,
     "metadata": {},
     "output_type": "execute_result"
    },
    {
     "data": {
      "image/png": "[encoded data removed]",
      "text/plain": [
       "<Figure size 640x480 with 1 Axes>"
      ]
     },
     "metadata": {},
     "output_type": "display_data"
    }
   ],
   "source": [
    "plt.plot(R, A_nn, label=\"A_nn\")\n",
    "plt.xlabel(\"r\")\n",
    "plt.legend()"
   ]
  },
  {
   "cell_type": "code",
   "execution_count": 25,
   "id": "0e17bbd5-000d-4d8c-b39e-b9b33f7421c3",
   "metadata": {},
   "outputs": [
    {
     "data": {
      "text/plain": [
       "<matplotlib.legend.Legend at 0x72472a0f6e60>"
      ]
     },
     "execution_count": 25,
     "metadata": {},
     "output_type": "execute_result"
    },
    {
     "data": {
      "image/png": "[encoded data removed]",
      "text/plain": [
       "<Figure size 640x480 with 1 Axes>"
      ]
     },
     "metadata": {},
     "output_type": "display_data"
    }
   ],
   "source": [
    "plt.plot(R, alpha_nn, label=\"alpha_nn\")\n",
    "plt.xlabel(\"r\")\n",
    "plt.legend()"
   ]
  },
  {
   "cell_type": "code",
   "execution_count": 26,
   "id": "93b4c5b3-2f89-4b24-885c-fac96929d692",
   "metadata": {},
   "outputs": [
    {
     "data": {
      "text/plain": [
       "<matplotlib.legend.Legend at 0x724727ffe530>"
      ]
     },
     "execution_count": 26,
     "metadata": {},
     "output_type": "execute_result"
    },
    {
     "data": {
      "image/png": "[encoded data removed]",
      "text/plain": [
       "<Figure size 640x480 with 1 Axes>"
      ]
     },
     "metadata": {},
     "output_type": "display_data"
    }
   ],
   "source": [
    "plt.plot(R, -chi_nn, label=\"chi_nn\")\n",
    "\n",
    "plt.xlabel(\"r\")\n",
    "plt.legend()"
   ]
  },
  {
   "cell_type": "code",
   "execution_count": 27,
   "id": "d146de91-28b9-4345-8d8b-e89108c15124",
   "metadata": {},
   "outputs": [
    {
     "name": "stdout",
     "output_type": "stream",
     "text": [
      "[0.04999937]\n"
     ]
    },
    {
     "data": {
      "text/plain": [
       "<matplotlib.legend.Legend at 0x7247300b6a10>"
      ]
     },
     "execution_count": 27,
     "metadata": {},
     "output_type": "execute_result"
    },
    {
     "data": {
      "image/png": "[encoded data removed]",
      "text/plain": [
       "<Figure size 640x480 with 1 Axes>"
      ]
     },
     "metadata": {},
     "output_type": "display_data"
    }
   ],
   "source": [
    "plt.plot(R, phi_nn, label=\"phi_nn\")\n",
    "print(phi_nn[0])\n",
    "plt.xlabel(\"r\")\n",
    "#plt.ylim(0,0.2)\n",
    "plt.legend()"
   ]
  },
  {
   "cell_type": "code",
   "execution_count": null,
   "id": "d6ae872a-5861-46cc-b9dc-ea782f70367e",
   "metadata": {},
   "outputs": [],
   "source": []
  }
 ],
 "metadata": {
  "kernelspec": {
   "display_name": "Python 3 (ipykernel)",
   "language": "python",
   "name": "python3"
  },
  "language_info": {
   "codemirror_mode": {
    "name": "ipython",
    "version": 3
   },
   "file_extension": ".py",
   "mimetype": "text/x-python",
   "name": "python",
   "nbconvert_exporter": "python",
   "pygments_lexer": "ipython3",
   "version": "3.10.12"
  }
 },
 "nbformat": 4,
 "nbformat_minor": 5
}
